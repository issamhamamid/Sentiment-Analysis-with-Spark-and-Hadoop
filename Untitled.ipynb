{
 "cells": [
  {
   "cell_type": "code",
   "execution_count": 1,
   "id": "a447b09b-1c99-40aa-ac8d-699370d8ded4",
   "metadata": {},
   "outputs": [
    {
     "name": "stderr",
     "output_type": "stream",
     "text": [
      "/home/hadoop/spark-3.5.4-bin-hadoop3/PROJECT1/venv/lib/python3.10/site-packages/numpy/_core/getlimits.py:551: UserWarning: Signature b'\\x00\\xd0\\xcc\\xcc\\xcc\\xcc\\xcc\\xcc\\xfb\\xbf\\x00\\x00\\x00\\x00\\x00\\x00' for <class 'numpy.longdouble'> does not match any known type: falling back to type probe function.\n",
      "This warnings indicates broken support for the dtype!\n",
      "  machar = _get_machar(dtype)\n"
     ]
    }
   ],
   "source": [
    "from pyspark.sql import SparkSession\n",
    "from pyspark import SparkContext, SparkConf\n",
    "import matplotlib.pyplot as plt\n",
    "import seaborn as sns\n",
    "from pyspark.sql import functions as F\n",
    "import matplotlib.pyplot as plt\n",
    "import seaborn as sns\n",
    "from pyspark.sql import functions as F\n",
    "from pyspark.sql.window import Window  # Import Window\n",
    "import time\n",
    "from pyspark.sql.functions import col\n",
    "from pyspark.ml.classification import LogisticRegression\n",
    "from pyspark.ml import Pipeline\n",
    "from pyspark.ml.evaluation import MulticlassClassificationEvaluator\n",
    "from pyspark.ml.feature import Tokenizer, StopWordsRemover, HashingTF, IDF\n",
    "from pyspark.ml.classification import RandomForestClassifier\n",
    "from pyspark.ml.classification import NaiveBayes\n",
    "from pyspark.mllib.evaluation import MulticlassMetrics"
   ]
  },
  {
   "cell_type": "code",
   "execution_count": 2,
   "id": "cf4ccb61-e7c0-4ea6-a845-677a4afcd10b",
   "metadata": {},
   "outputs": [
    {
     "name": "stderr",
     "output_type": "stream",
     "text": [
      "25/01/28 15:02:25 WARN Utils: Your hostname, DESKTOP-VPNEKP3 resolves to a loopback address: 127.0.1.1; using 192.168.1.34 instead (on interface eth0)\n",
      "25/01/28 15:02:25 WARN Utils: Set SPARK_LOCAL_IP if you need to bind to another address\n",
      "Setting default log level to \"WARN\".\n",
      "To adjust logging level use sc.setLogLevel(newLevel). For SparkR, use setLogLevel(newLevel).\n",
      "25/01/28 15:02:26 WARN NativeCodeLoader: Unable to load native-hadoop library for your platform... using builtin-java classes where applicable\n"
     ]
    }
   ],
   "source": [
    "\n",
    "\n",
    "conf = SparkConf() \\\n",
    "    .setAppName('PROJET_BIG_DATA') \\\n",
    "    .setMaster('local') \\\n",
    "    .set(\"spark.executor.memory\", \"8g\") \\\n",
    "    .set(\"spark.driver.memory\", \"8g\")\n",
    "\n",
    "spark = SparkSession(SparkContext(conf=conf))\n",
    "\n"
   ]
  },
  {
   "cell_type": "code",
   "execution_count": 3,
   "id": "be38bc5a-4f01-436b-8f33-ea73ff3ae171",
   "metadata": {},
   "outputs": [
    {
     "name": "stderr",
     "output_type": "stream",
     "text": [
      "                                                                                "
     ]
    }
   ],
   "source": [
    "\n",
    "hdfs_path = \"hdfs://localhost:9000/amazon_reviews/train.csv\"\n",
    "\n",
    "\n",
    "df = spark.read.csv(hdfs_path, header=True, inferSchema=True)\n",
    "df2 = spark.read.csv(\"hdfs://localhost:9000/amazon_reviews/test.csv\", header=True, inferSchema=True)\n",
    " \n"
   ]
  },
  {
   "cell_type": "code",
   "execution_count": 4,
   "id": "24fcdeaa-4516-455f-a91e-b473d92d6730",
   "metadata": {},
   "outputs": [],
   "source": [
    "df = df.toDF(\"target\", \"review_title\", \"review_text\")\n",
    "df2 = df2.toDF(\"target\", \"review_title\", \"review_text\")"
   ]
  },
  {
   "cell_type": "code",
   "execution_count": 167,
   "id": "740c4719-3d3a-4f89-a851-7bcd43610de5",
   "metadata": {},
   "outputs": [
    {
     "name": "stdout",
     "output_type": "stream",
     "text": [
      "+------+--------------------+--------------------+\n",
      "|target|        review_title|         review_text|\n",
      "+------+--------------------+--------------------+\n",
      "|     2|One of the best g...|Despite the fact ...|\n",
      "|     1|Batteries died wi...|I bought this cha...|\n",
      "|     2|works fine, but M...|Check out Maha En...|\n",
      "|     2|Great for the non...|Reviewed quite a ...|\n",
      "|     1|DVD Player crappe...|I also began havi...|\n",
      "+------+--------------------+--------------------+\n",
      "only showing top 5 rows\n",
      "\n"
     ]
    }
   ],
   "source": [
    "df2.show(5)"
   ]
  },
  {
   "cell_type": "code",
   "execution_count": 5,
   "id": "f21d9c69-ffc9-4e4e-893c-3bd4b0ecddb9",
   "metadata": {},
   "outputs": [],
   "source": [
    "df_concat = df.union(df2)"
   ]
  },
  {
   "cell_type": "code",
   "execution_count": 145,
   "id": "215a3367-b8e2-4c5d-93e9-2757fa8a2679",
   "metadata": {},
   "outputs": [
    {
     "name": "stderr",
     "output_type": "stream",
     "text": [
      "                                                                                "
     ]
    },
    {
     "data": {
      "text/plain": [
       "3999998"
      ]
     },
     "execution_count": 145,
     "metadata": {},
     "output_type": "execute_result"
    }
   ],
   "source": [
    "df_concat.count()"
   ]
  },
  {
   "cell_type": "markdown",
   "id": "51a0ebe3-4102-4b6f-b83b-133b3bc4e707",
   "metadata": {},
   "source": [
    "<h1>EXPLORATORY DATA VISUALISATION</h1>"
   ]
  },
  {
   "cell_type": "code",
   "execution_count": 146,
   "id": "55d5aa1e-f6f4-4f24-9ea6-996d375d9c49",
   "metadata": {},
   "outputs": [
    {
     "name": "stderr",
     "output_type": "stream",
     "text": [
      "                                                                                "
     ]
    },
    {
     "data": {
      "image/png": "[encoded data removed]",
      "text/plain": [
       "<Figure size 640x480 with 1 Axes>"
      ]
     },
     "metadata": {},
     "output_type": "display_data"
    }
   ],
   "source": [
    "target_dist = df_concat.groupBy('target').count().collect()\n",
    "\n",
    "# Prepare data for plotting\n",
    "targets = [row['target'] for row in target_dist]\n",
    "counts = [row['count'] for row in target_dist]\n",
    "\n",
    "# Plot using matplotlib\n",
    "import matplotlib.pyplot as plt\n",
    "\n",
    "plt.bar(targets, counts)\n",
    "\n",
    "plt.title('Target Distribution')\n",
    "plt.xlabel('Target')\n",
    "plt.ylabel('Count')\n",
    "\n",
    "plt.show()"
   ]
  },
  {
   "cell_type": "code",
   "execution_count": 125,
   "id": "34382e09-e0fb-4a94-a673-3abede7c9837",
   "metadata": {},
   "outputs": [
    {
     "name": "stderr",
     "output_type": "stream",
     "text": [
      "                                                                                "
     ]
    },
    {
     "data": {
      "image/png": "[encoded data removed]",
      "text/plain": [
       "<Figure size 800x600 with 1 Axes>"
      ]
     },
     "metadata": {},
     "output_type": "display_data"
    }
   ],
   "source": [
    "\n",
    "\n",
    "# Step 1: Calculate the length of each review\n",
    "df_concat = df_concat.withColumn('review_length', F.length(df_concat['review_text']))\n",
    "\n",
    "# Step 2: Collect the review lengths into a list\n",
    "review_lengths = df_concat.select('review_length').rdd.flatMap(lambda x: x).collect()\n",
    "\n",
    "# Step 3: Plot using seaborn with kde (kernel density estimate)\n",
    "plt.figure(figsize=(8, 6))\n",
    "sns.histplot(review_lengths, bins=50, kde=True, color='skyblue', line_kws={'color': 'darkblue'})\n",
    "\n",
    "# Step 4: Set titles and labels\n",
    "plt.title('Distribution of Review Length in Training Data')\n",
    "plt.xlabel('Review Length')\n",
    "plt.ylabel('Count')\n",
    "\n",
    "# Step 5: Display the plot\n",
    "plt.show()\n"
   ]
  },
  {
   "cell_type": "code",
   "execution_count": 126,
   "id": "e6f8df7a-c079-4619-bee1-c424083f2899",
   "metadata": {},
   "outputs": [
    {
     "name": "stderr",
     "output_type": "stream",
     "text": [
      "                                                                                "
     ]
    },
    {
     "data": {
      "image/png": "[encoded data removed]",
      "text/plain": [
       "<Figure size 1000x600 with 1 Axes>"
      ]
     },
     "metadata": {},
     "output_type": "display_data"
    }
   ],
   "source": [
    "\n",
    "\n",
    "# Step 1: Create length bins\n",
    "length_bins = [0, 50, 100, 150, 200, 250, 300, float('inf')]\n",
    "bin_labels = ['0-50', '51-100', '101-150', '151-200', '201-250', '251-300', '301+']\n",
    "\n",
    "# Step 2: Create a new column 'length_bin' based on the review length\n",
    "df_concat = df_concat.withColumn(\n",
    "    'length_bin',\n",
    "    F.when((df_concat['review_length'] > length_bins[0]) & (df_concat['review_length'] <= length_bins[1]), bin_labels[0])\n",
    "    .when((df_concat['review_length'] > length_bins[1]) & (df_concat['review_length'] <= length_bins[2]), bin_labels[1])\n",
    "    .when((df_concat['review_length'] > length_bins[2]) & (df_concat['review_length'] <= length_bins[3]), bin_labels[2])\n",
    "    .when((df_concat['review_length'] > length_bins[3]) & (df_concat['review_length'] <= length_bins[4]), bin_labels[3])\n",
    "    .when((df_concat['review_length'] > length_bins[4]) & (df_concat['review_length'] <= length_bins[5]), bin_labels[4])\n",
    "    .when((df_concat['review_length'] > length_bins[5]) & (df_concat['review_length'] <= length_bins[6]), bin_labels[5])\n",
    "    .otherwise(bin_labels[6])\n",
    ")\n",
    "\n",
    "# Step 3: Group by the length bins and calculate the distribution of the target variable\n",
    "df_grouped = df_concat.groupBy('length_bin', 'target').count()\n",
    "\n",
    "# Step 4: Calculate the percentage of each target per length bin\n",
    "df_grouped = df_grouped.withColumn(\n",
    "    'total_per_bin', F.sum('count').over(Window.partitionBy('length_bin'))\n",
    ")\n",
    "\n",
    "df_grouped = df_grouped.withColumn(\n",
    "    'percentage', (df_grouped['count'] / df_grouped['total_per_bin']) * 100\n",
    ")\n",
    "\n",
    "# Step 5: Collect the data for plotting\n",
    "grouped_data = df_grouped.select('length_bin', 'target', 'percentage').toPandas()\n",
    "\n",
    "# Step 6: Plot the target distribution for each length bin\n",
    "plt.figure(figsize=(10, 6))\n",
    "sns.barplot(x='length_bin', y='percentage', hue='target', data=grouped_data)\n",
    "\n",
    "# Step 7: Set titles and labels\n",
    "plt.title('Target Distribution by Review Length')\n",
    "plt.xlabel('Review Length Bin')\n",
    "plt.ylabel('Percentage of Target')\n",
    "plt.show()\n"
   ]
  },
  {
   "cell_type": "markdown",
   "id": "4f95bfe8-3416-44d9-82cb-6b649bf906c1",
   "metadata": {},
   "source": [
    "<h1>DATA CLEANING</h1>"
   ]
  },
  {
   "cell_type": "code",
   "execution_count": 6,
   "id": "eaae642f-0a97-4ac6-a602-6743a64181a4",
   "metadata": {},
   "outputs": [
    {
     "name": "stderr",
     "output_type": "stream",
     "text": [
      "                                                                                "
     ]
    },
    {
     "name": "stdout",
     "output_type": "stream",
     "text": [
      "Rows removed: 66\n"
     ]
    },
    {
     "name": "stderr",
     "output_type": "stream",
     "text": [
      "[Stage 10:====================================================>   (13 + 1) / 14]"
     ]
    },
    {
     "name": "stdout",
     "output_type": "stream",
     "text": [
      "+--------------------+---------+\n",
      "|                text|sentiment|\n",
      "+--------------------+---------+\n",
      "|Best game ever Th...|        1|\n",
      "|A rare & wondeful...|        1|\n",
      "|A Novel as Enjoya...|        1|\n",
      "|WONDERFUL GOTHIC ...|        1|\n",
      "|Obviously, not Ad...|        0|\n",
      "+--------------------+---------+\n",
      "only showing top 5 rows\n",
      "\n",
      "Execution Time: 42.09510898590088 seconds\n"
     ]
    },
    {
     "name": "stderr",
     "output_type": "stream",
     "text": [
      "                                                                                "
     ]
    }
   ],
   "source": [
    "\n",
    "\n",
    "start_time = time.time()\n",
    "\n",
    "# Count the number of rows before filtering\n",
    "original_count = df_concat.count()\n",
    "\n",
    "# Filter out rows with null or empty values in review_title or review_text\n",
    "df_concat_filtered = df_concat.filter(\n",
    "    (col(\"review_title\").isNotNull()) & (col(\"review_title\") != \"\") &\n",
    "    (col(\"review_text\").isNotNull()) & (col(\"review_text\") != \"\")\n",
    ")\n",
    "\n",
    "# Count the number of rows after filtering\n",
    "filtered_count = df_concat_filtered.count()\n",
    "\n",
    "# Calculate the number of removed rows\n",
    "removed_count = original_count - filtered_count\n",
    "\n",
    "# Print the result\n",
    "print(f\"Rows removed: {removed_count}\")\n",
    "\n",
    "df = df_concat_filtered.drop(*['review_length', 'length_bin'])\n",
    "from pyspark.sql.functions import concat_ws\n",
    "\n",
    "# Combine the columns into a new column \"text\"\n",
    "df = df.withColumn(\"text\", concat_ws(\" \", df[\"review_title\"], df[\"review_text\"]))\n",
    "\n",
    "# Drop the original columns\n",
    "df = df.drop(\"review_title\", \"review_text\")\n",
    "\n",
    "# Remove duplicate rows based on all columns\n",
    "df_no_duplicates = df.dropDuplicates()\n",
    "\n",
    "\n",
    "from pyspark.sql.functions import when, col\n",
    "\n",
    "# Create the 'sentiment' column based on 'target' column values\n",
    "df_no_duplicates = df_no_duplicates.withColumn(\n",
    "    \"sentiment\", \n",
    "    when(col(\"target\") == 1, 0)\n",
    "    .when(col(\"target\") == 2, 1)\n",
    "    .otherwise(None)  # In case there are other values for 'target'\n",
    ")\n",
    "\n",
    "\n",
    "# Drop the 'target' column\n",
    "df_cleaned = df_no_duplicates.drop(\"target\")\n",
    "\n",
    "# Show the resulting DataFrame\n",
    "df_cleaned.show(5)\n",
    "\n",
    "end_time = time.time()\n",
    "\n",
    "execution_time = end_time - start_time\n",
    "print(f\"Execution Time: {execution_time} seconds\")"
   ]
  },
  {
   "cell_type": "markdown",
   "id": "c80d71c2-65a2-43cc-bc1a-db44192470a4",
   "metadata": {},
   "source": [
    "<h2>DATA SPLITTING</h2>"
   ]
  },
  {
   "cell_type": "code",
   "execution_count": 7,
   "id": "e1bc2fc8-3590-4ce7-8cbe-316e8afd1589",
   "metadata": {},
   "outputs": [],
   "source": [
    "train_data, test_data = df_cleaned.randomSplit([0.8, 0.2], seed=42)"
   ]
  },
  {
   "cell_type": "markdown",
   "id": "f439c242-7c48-4603-b3a1-973c4ed522f0",
   "metadata": {},
   "source": [
    "<h1>PREPROCESSING PIPELINE<h1>"
   ]
  },
  {
   "cell_type": "code",
   "execution_count": 8,
   "id": "e74229a0-89dc-4407-a556-eb34e9dee87a",
   "metadata": {},
   "outputs": [],
   "source": [
    "# Step 1: Tokenization\n",
    "tokenizer = Tokenizer(inputCol=\"text\", outputCol=\"words\")\n",
    "\n",
    "# Step 2: Remove Stop Words\n",
    "stopwords_remover = StopWordsRemover(inputCol=\"words\", outputCol=\"filtered_words\")\n",
    "\n",
    "# Step 3: HashingTF (term frequency)\n",
    "hashing_tf = HashingTF(inputCol=\"filtered_words\", outputCol=\"raw_features\", numFeatures=10000)\n",
    "\n",
    "# Step 4: IDF (inverse document frequency)\n",
    "idf = IDF(inputCol=\"raw_features\", outputCol=\"features\")\n"
   ]
  },
  {
   "cell_type": "markdown",
   "id": "522d6fbb-2953-43b0-acce-2e3193511da5",
   "metadata": {},
   "source": [
    "<h1>NAIVEBAYES</h1>"
   ]
  },
  {
   "cell_type": "code",
   "execution_count": 150,
   "id": "54a85812-aa58-42b5-a12a-a7ba11d4f6cb",
   "metadata": {},
   "outputs": [
    {
     "name": "stderr",
     "output_type": "stream",
     "text": [
      "[Stage 27:=====================================================>  (18 + 1) / 19]"
     ]
    },
    {
     "name": "stdout",
     "output_type": "stream",
     "text": [
      "Execution Time: 397.0680949687958 seconds\n"
     ]
    },
    {
     "name": "stderr",
     "output_type": "stream",
     "text": [
      "                                                                                "
     ]
    }
   ],
   "source": [
    "start_time = time.time()\n",
    "# Step 5: Logistic Regression Model\n",
    "nb  =  NaiveBayes(featuresCol=\"features\", labelCol=\"sentiment\", modelType=\"multinomial\")\n",
    "\n",
    "# Step 6: Pipeline\n",
    "pipeline = Pipeline(stages=[tokenizer, stopwords_remover, hashing_tf, idf, nb])\n",
    "\n",
    "# Train the model\n",
    "nb_model = pipeline.fit(train_data)\n",
    "\n",
    "# Make predictions on the test set\n",
    "predictions = nb_model.transform(test_data)\n",
    "end_time = time.time()\n",
    "\n",
    "execution_time = end_time - start_time\n",
    "print(f\"Execution Time: {execution_time} seconds\")\n"
   ]
  },
  {
   "cell_type": "markdown",
   "id": "09b55808-256f-45f5-855a-2e148cf1b5fb",
   "metadata": {},
   "source": [
    "<h1>NAIVEBAYES EVALUATION</h1>"
   ]
  },
  {
   "cell_type": "code",
   "execution_count": 134,
   "id": "caac6676-9fb4-413d-a78d-31696b8fe131",
   "metadata": {},
   "outputs": [
    {
     "name": "stderr",
     "output_type": "stream",
     "text": [
      "                                                                                "
     ]
    },
    {
     "name": "stdout",
     "output_type": "stream",
     "text": [
      "Model Accuracy: 0.81\n"
     ]
    },
    {
     "name": "stderr",
     "output_type": "stream",
     "text": [
      "[Stage 67:=====================================================>  (18 + 1) / 19]"
     ]
    },
    {
     "name": "stdout",
     "output_type": "stream",
     "text": [
      "Class 0:\n",
      "  Precision: 0.80\n",
      "  Recall: 0.82\n",
      "  F1 Score: 0.81\n",
      "Class 1:\n",
      "  Precision: 0.82\n",
      "  Recall: 0.80\n",
      "  F1 Score: 0.81\n",
      "Overall Accuracy: 0.81\n"
     ]
    },
    {
     "name": "stderr",
     "output_type": "stream",
     "text": [
      "                                                                                "
     ]
    }
   ],
   "source": [
    "from pyspark.ml.evaluation import MulticlassClassificationEvaluator\n",
    "from pyspark.mllib.evaluation import MulticlassMetrics\n",
    "\n",
    "# Step 7: Evaluate the model using MulticlassClassificationEvaluator\n",
    "evaluator = MulticlassClassificationEvaluator(\n",
    "    labelCol=\"sentiment\", predictionCol=\"prediction\", metricName=\"accuracy\"\n",
    ")\n",
    "accuracy = evaluator.evaluate(predictions)\n",
    "print(f\"Model Accuracy: {accuracy:.2f}\")\n",
    "\n",
    "# Step 8: Calculate precision, recall, and F1 score using MulticlassMetrics\n",
    "labels_and_preds = predictions.select(\"sentiment\", \"prediction\")\n",
    "\n",
    "# Convert to RDD for MulticlassMetrics\n",
    "prediction_and_labels = labels_and_preds.rdd.map(lambda row: (float(row['sentiment']), float(row['prediction'])))\n",
    "\n",
    "# Instantiate MulticlassMetrics\n",
    "metrics = MulticlassMetrics(prediction_and_labels)\n",
    "\n",
    "# Get confusion matrix\n",
    "conf_matrix = metrics.confusionMatrix().toArray()\n",
    "\n",
    "# Get metrics for each label/class\n",
    "for label in range(len(conf_matrix)):\n",
    "    precision = metrics.precision(label)\n",
    "    recall = metrics.recall(label)\n",
    "    \n",
    "    # Calculate F1 score manually\n",
    "    f1 = 2 * (precision * recall) / (precision + recall) if precision + recall != 0 else 0\n",
    "    \n",
    "    print(f\"Class {label}:\")\n",
    "    print(f\"  Precision: {precision:.2f}\")\n",
    "    print(f\"  Recall: {recall:.2f}\")\n",
    "    print(f\"  F1 Score: {f1:.2f}\")\n",
    "\n",
    "# Overall accuracy\n",
    "accuracy_metrics = metrics.accuracy\n",
    "print(f\"Overall Accuracy: {accuracy_metrics:.2f}\")\n"
   ]
  },
  {
   "cell_type": "code",
   "execution_count": null,
   "id": "de6be048-5fe2-4bae-b164-21828135e2c3",
   "metadata": {},
   "outputs": [],
   "source": [
    "import matplotlib.pyplot as plt\n",
    "import seaborn as sns\n",
    "import numpy as np\n",
    "\n",
    "# Get confusion matrix\n",
    "conf_matrix = metrics.confusionMatrix().toArray()\n",
    "\n",
    "# Plotting the confusion matrix\n",
    "plt.figure(figsize=(8, 6))\n",
    "sns.heatmap(conf_matrix, annot=True, fmt=\"d\", cmap=\"Blues\", cbar=False, \n",
    "            xticklabels=[f'Predicted {i}' for i in range(len(conf_matrix))], \n",
    "            yticklabels=[f'True {i}' for i in range(len(conf_matrix))])\n",
    "\n",
    "# Add labels and title\n",
    "plt.title(\"Confusion Matrix\")\n",
    "plt.xlabel(\"Predicted Labels\")\n",
    "plt.ylabel(\"True Labels\")\n",
    "\n",
    "# Show the plot\n",
    "plt.show()\n"
   ]
  },
  {
   "cell_type": "code",
   "execution_count": 135,
   "id": "2dd2b5ac-9659-4736-bb25-3c755f36b92c",
   "metadata": {},
   "outputs": [
    {
     "name": "stdout",
     "output_type": "stream",
     "text": [
      "Confusion Matrix:\n",
      "[[318674.  70749.]\n",
      " [ 80929. 329107.]]\n"
     ]
    }
   ],
   "source": [
    "\n",
    "\n",
    "# Get confusion matrix\n",
    "conf_matrix = metrics.confusionMatrix().toArray()\n",
    "\n",
    "# Print confusion matrix\n",
    "print(\"Confusion Matrix:\")\n",
    "print(conf_matrix)"
   ]
  },
  {
   "cell_type": "markdown",
   "id": "bfcff52c-51c2-4f99-8855-c85bf1caa810",
   "metadata": {},
   "source": [
    "<h1>LOGISTIC REGRESSION</h1>"
   ]
  },
  {
   "cell_type": "code",
   "execution_count": null,
   "id": "427df07d-f1fb-42bd-a782-46aeb605ba1b",
   "metadata": {},
   "outputs": [
    {
     "name": "stderr",
     "output_type": "stream",
     "text": [
      "[Stage 20:=====================>                                   (7 + 1) / 19]"
     ]
    }
   ],
   "source": [
    "lr = LogisticRegression(featuresCol=\"features\", labelCol=\"sentiment\")\n",
    "\n",
    "# Step 6: Pipeline\n",
    "pipeline = Pipeline(stages=[tokenizer, stopwords_remover, hashing_tf, idf, lr])\n",
    "\n",
    "# Train the model\n",
    "lr_model = pipeline.fit(train_data)\n",
    "\n",
    "# Make predictions on the test set\n",
    "predictions = lr_model.transform(test_data)"
   ]
  },
  {
   "cell_type": "markdown",
   "id": "3c293cb0-b53d-461e-972d-d590fe4f3b25",
   "metadata": {},
   "source": [
    "<h1>LOGISTIC REGRESSION EVALUATION</h1>"
   ]
  },
  {
   "cell_type": "code",
   "execution_count": null,
   "id": "d94037b8-9346-42c6-a241-0d2836a4a1d0",
   "metadata": {},
   "outputs": [
    {
     "name": "stderr",
     "output_type": "stream",
     "text": [
      "                                                                                "
     ]
    },
    {
     "name": "stdout",
     "output_type": "stream",
     "text": [
      "Model Accuracy: 0.85\n"
     ]
    },
    {
     "name": "stderr",
     "output_type": "stream",
     "text": [
      "[Stage 143:============>                                           (3 + 1) / 14]"
     ]
    }
   ],
   "source": [
    "from pyspark.ml.evaluation import MulticlassClassificationEvaluator\n",
    "from pyspark.mllib.evaluation import MulticlassMetrics\n",
    "\n",
    "# Step 7: Evaluate the model using MulticlassClassificationEvaluator\n",
    "evaluator = MulticlassClassificationEvaluator(\n",
    "    labelCol=\"sentiment\", predictionCol=\"prediction\", metricName=\"accuracy\"\n",
    ")\n",
    "accuracy = evaluator.evaluate(predictions)\n",
    "print(f\"Model Accuracy: {accuracy:.2f}\")\n",
    "\n",
    "# Step 8: Calculate precision, recall, and F1 score using MulticlassMetrics\n",
    "labels_and_preds = predictions.select(\"sentiment\", \"prediction\")\n",
    "\n",
    "# Convert to RDD for MulticlassMetrics\n",
    "prediction_and_labels = labels_and_preds.rdd.map(lambda row: (float(row['sentiment']), float(row['prediction'])))\n",
    "\n",
    "# Instantiate MulticlassMetrics\n",
    "metrics = MulticlassMetrics(prediction_and_labels)\n",
    "\n",
    "# Get confusion matrix\n",
    "conf_matrix = metrics.confusionMatrix().toArray()\n",
    "\n",
    "# Get metrics for each label/class\n",
    "for label in range(len(conf_matrix)):\n",
    "    precision = metrics.precision(label)\n",
    "    recall = metrics.recall(label)\n",
    "    \n",
    "    # Calculate F1 score manually\n",
    "    f1 = 2 * (precision * recall) / (precision + recall) if precision + recall != 0 else 0\n",
    "    \n",
    "    print(f\"Class {label}:\")\n",
    "    print(f\"  Precision: {precision:.2f}\")\n",
    "    print(f\"  Recall: {recall:.2f}\")\n",
    "    print(f\"  F1 Score: {f1:.2f}\")\n",
    "\n",
    "# Overall accuracy\n",
    "accuracy_metrics = metrics.accuracy\n",
    "print(f\"Overall Accuracy: {accuracy_metrics:.2f}\")\n"
   ]
  },
  {
   "cell_type": "code",
   "execution_count": 162,
   "id": "4af5e4fc-2fba-4414-a0db-87b24bd57927",
   "metadata": {},
   "outputs": [],
   "source": [
    "spark.stop()"
   ]
  },
  {
   "cell_type": "code",
   "execution_count": null,
   "id": "23d7abcd-bb69-44e0-8307-bde2472af51d",
   "metadata": {},
   "outputs": [],
   "source": []
  }
 ],
 "metadata": {
  "kernelspec": {
   "display_name": "BIGDATA",
   "language": "python",
   "name": "bigdata"
  },
  "language_info": {
   "codemirror_mode": {
    "name": "ipython",
    "version": 3
   },
   "file_extension": ".py",
   "mimetype": "text/x-python",
   "name": "python",
   "nbconvert_exporter": "python",
   "pygments_lexer": "ipython3",
   "version": "3.10.12"
  }
 },
 "nbformat": 4,
 "nbformat_minor": 5
}
