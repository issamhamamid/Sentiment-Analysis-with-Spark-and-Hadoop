{
 "cells": [
  {
   "cell_type": "code",
   "execution_count": 9,
   "id": "29f68f41-1a3c-4270-bc59-09cd6f5b41cc",
   "metadata": {},
   "outputs": [],
   "source": [
    "spark.stop()"
   ]
  },
  {
   "cell_type": "code",
   "execution_count": 10,
   "id": "cf4ccb61-e7c0-4ea6-a845-677a4afcd10b",
   "metadata": {},
   "outputs": [],
   "source": [
    "from pyspark.sql import SparkSession\n",
    "from pyspark import SparkContext , SparkConf\n",
    "# Initialize SparkSession\n",
    "conf = pyspark.SparkConf().setAppName('PROJET_BIG_DATA').setMaster('local')\n",
    "spark = SparkSession(SparkContext(conf = conf))\n"
   ]
  },
  {
   "cell_type": "code",
   "execution_count": 11,
   "id": "be38bc5a-4f01-436b-8f33-ea73ff3ae171",
   "metadata": {},
   "outputs": [
    {
     "name": "stdout",
     "output_type": "stream",
     "text": [
      "+-------+---+----------+\n",
      "|   Name|Age|Occupation|\n",
      "+-------+---+----------+\n",
      "|  Alice| 30|  Engineer|\n",
      "|    Bob| 25|  Designer|\n",
      "|Charlie| 28|   Teacher|\n",
      "+-------+---+----------+\n",
      "\n"
     ]
    }
   ],
   "source": [
    "# Correct HDFS Path\n",
    "hdfs_path = \"hdfs://localhost:9000/test.csv\"\n",
    "\n",
    "# Load the CSV file into a DataFrame\n",
    "df = spark.read.csv(hdfs_path, header=True, inferSchema=True)\n",
    "\n",
    "# Display the DataFrame\n",
    "df.show()"
   ]
  },
  {
   "cell_type": "code",
   "execution_count": null,
   "id": "637b1d5b-3a0e-403d-a658-4f9cb2fa10c0",
   "metadata": {},
   "outputs": [],
   "source": []
  }
 ],
 "metadata": {
  "kernelspec": {
   "display_name": "BIGDATA",
   "language": "python",
   "name": "bigdata"
  },
  "language_info": {
   "codemirror_mode": {
    "name": "ipython",
    "version": 3
   },
   "file_extension": ".py",
   "mimetype": "text/x-python",
   "name": "python",
   "nbconvert_exporter": "python",
   "pygments_lexer": "ipython3",
   "version": "3.10.12"
  }
 },
 "nbformat": 4,
 "nbformat_minor": 5
}
